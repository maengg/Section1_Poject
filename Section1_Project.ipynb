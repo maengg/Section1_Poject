{
  "nbformat": 4,
  "nbformat_minor": 0,
  "metadata": {
    "colab": {
      "name": "Section1 - Project.ipynb",
      "provenance": [],
      "collapsed_sections": [],
      "authorship_tag": "ABX9TyNoaU6eSYHOzDOIih3rJFsQ",
      "include_colab_link": true
    },
    "kernelspec": {
      "name": "python3",
      "display_name": "Python 3"
    },
    "language_info": {
      "name": "python"
    }
  },
  "cells": [
    {
      "cell_type": "markdown",
      "metadata": {
        "id": "view-in-github",
        "colab_type": "text"
      },
      "source": [
        "<a href=\"https://colab.research.google.com/github/maengg/Section1_Poject/blob/main/Section1_Project.ipynb\" target=\"_parent\"><img src=\"https://colab.research.google.com/assets/colab-badge.svg\" alt=\"Open In Colab\"/></a>"
      ]
    },
    {
      "cell_type": "code",
      "metadata": {
        "colab": {
          "resources": {
            "http://localhost:8080/nbextensions/google.colab/files.js": {
              "data": "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",
              "ok": true,
              "headers": [
                [
                  "content-type",
                  "application/javascript"
                ]
              ],
              "status": 200,
              "status_text": ""
            }
          },
          "base_uri": "https://localhost:8080/",
          "height": 74
        },
        "id": "TvJxp1r-jIZW",
        "outputId": "c4c730b9-bf03-4d09-abae-0fdf2b9c35f5"
      },
      "source": [
        "from google.colab import files\n",
        "upload = files.upload()"
      ],
      "execution_count": 1,
      "outputs": [
        {
          "output_type": "display_data",
          "data": {
            "text/plain": [
              "<IPython.core.display.HTML object>"
            ],
            "text/html": [
              "\n",
              "     <input type=\"file\" id=\"files-01d7ac73-5ebb-4093-a9af-13eda7c269b7\" name=\"files[]\" multiple disabled\n",
              "        style=\"border:none\" />\n",
              "     <output id=\"result-01d7ac73-5ebb-4093-a9af-13eda7c269b7\">\n",
              "      Upload widget is only available when the cell has been executed in the\n",
              "      current browser session. Please rerun this cell to enable.\n",
              "      </output>\n",
              "      <script src=\"/nbextensions/google.colab/files.js\"></script> "
            ]
          },
          "metadata": {}
        },
        {
          "output_type": "stream",
          "name": "stdout",
          "text": [
            "Saving vgames2.csv to vgames2.csv\n"
          ]
        }
      ]
    },
    {
      "cell_type": "code",
      "metadata": {
        "colab": {
          "base_uri": "https://localhost:8080/",
          "height": 423
        },
        "id": "-QLD5F6wjJP1",
        "outputId": "3bf88119-c15c-47b2-b22c-5881bedc0474"
      },
      "source": [
        "import pandas as pd\n",
        "\n",
        "df = pd.read_csv('vgames2.csv')\n",
        "df"
      ],
      "execution_count": 2,
      "outputs": [
        {
          "output_type": "execute_result",
          "data": {
            "text/plain": [
              "       Unnamed: 0                                            Name Platform  \\\n",
              "0               1                    Candace Kane's Candy Factory       DS   \n",
              "1               2                                  The Munchables      Wii   \n",
              "2               3  Otome wa Oanesama Boku ni Koi Shiteru Portable      PSP   \n",
              "3               4                Deal or No Deal: Special Edition       DS   \n",
              "4               5       Ben 10 Ultimate Alien: Cosmic Destruction      PS3   \n",
              "...           ...                                             ...      ...   \n",
              "16593       16594                         Ice Age 2: The Meltdown       GC   \n",
              "16594       16595                     Rainbow Islands: Revolution      PSP   \n",
              "16595       16596                                        NBA 2K16      PS3   \n",
              "16596       16597                     Toukiden: The Age of Demons      PSV   \n",
              "16597       16598                        The King of Fighters '95       PS   \n",
              "\n",
              "         Year      Genre                    Publisher NA_Sales EU_Sales  \\\n",
              "0      2008.0     Action                    Destineer     0.04        0   \n",
              "1      2009.0     Action           Namco Bandai Games     0.17        0   \n",
              "2      2010.0  Adventure                    Alchemist        0        0   \n",
              "3      2010.0       Misc                    Zoo Games     0.04        0   \n",
              "4      2010.0   Platform                  D3Publisher     0.12     0.09   \n",
              "...       ...        ...                          ...      ...      ...   \n",
              "16593  2006.0   Platform                Vivendi Games     0.15     0.04   \n",
              "16594  2005.0     Action            Rising Star Games     0.01        0   \n",
              "16595  2015.0     Sports         Take-Two Interactive     0.44     0.19   \n",
              "16596  2013.0     Action                   Tecmo Koei     0.05     0.05   \n",
              "16597  1996.0   Fighting  Sony Computer Entertainment        0        0   \n",
              "\n",
              "      JP_Sales Other_Sales  \n",
              "0            0           0  \n",
              "1            0        0.01  \n",
              "2         0.02           0  \n",
              "3            0           0  \n",
              "4            0        0.04  \n",
              "...        ...         ...  \n",
              "16593        0        0.01  \n",
              "16594        0           0  \n",
              "16595     0.03        0.13  \n",
              "16596     0.25        0.03  \n",
              "16597     0.16        0.01  \n",
              "\n",
              "[16598 rows x 10 columns]"
            ],
            "text/html": [
              "\n",
              "  <div id=\"df-87b05c72-8e98-43f9-b141-2c7d91c5861b\">\n",
              "    <div class=\"colab-df-container\">\n",
              "      <div>\n",
              "<style scoped>\n",
              "    .dataframe tbody tr th:only-of-type {\n",
              "        vertical-align: middle;\n",
              "    }\n",
              "\n",
              "    .dataframe tbody tr th {\n",
              "        vertical-align: top;\n",
              "    }\n",
              "\n",
              "    .dataframe thead th {\n",
              "        text-align: right;\n",
              "    }\n",
              "</style>\n",
              "<table border=\"1\" class=\"dataframe\">\n",
              "  <thead>\n",
              "    <tr style=\"text-align: right;\">\n",
              "      <th></th>\n",
              "      <th>Unnamed: 0</th>\n",
              "      <th>Name</th>\n",
              "      <th>Platform</th>\n",
              "      <th>Year</th>\n",
              "      <th>Genre</th>\n",
              "      <th>Publisher</th>\n",
              "      <th>NA_Sales</th>\n",
              "      <th>EU_Sales</th>\n",
              "      <th>JP_Sales</th>\n",
              "      <th>Other_Sales</th>\n",
              "    </tr>\n",
              "  </thead>\n",
              "  <tbody>\n",
              "    <tr>\n",
              "      <th>0</th>\n",
              "      <td>1</td>\n",
              "      <td>Candace Kane's Candy Factory</td>\n",
              "      <td>DS</td>\n",
              "      <td>2008.0</td>\n",
              "      <td>Action</td>\n",
              "      <td>Destineer</td>\n",
              "      <td>0.04</td>\n",
              "      <td>0</td>\n",
              "      <td>0</td>\n",
              "      <td>0</td>\n",
              "    </tr>\n",
              "    <tr>\n",
              "      <th>1</th>\n",
              "      <td>2</td>\n",
              "      <td>The Munchables</td>\n",
              "      <td>Wii</td>\n",
              "      <td>2009.0</td>\n",
              "      <td>Action</td>\n",
              "      <td>Namco Bandai Games</td>\n",
              "      <td>0.17</td>\n",
              "      <td>0</td>\n",
              "      <td>0</td>\n",
              "      <td>0.01</td>\n",
              "    </tr>\n",
              "    <tr>\n",
              "      <th>2</th>\n",
              "      <td>3</td>\n",
              "      <td>Otome wa Oanesama Boku ni Koi Shiteru Portable</td>\n",
              "      <td>PSP</td>\n",
              "      <td>2010.0</td>\n",
              "      <td>Adventure</td>\n",
              "      <td>Alchemist</td>\n",
              "      <td>0</td>\n",
              "      <td>0</td>\n",
              "      <td>0.02</td>\n",
              "      <td>0</td>\n",
              "    </tr>\n",
              "    <tr>\n",
              "      <th>3</th>\n",
              "      <td>4</td>\n",
              "      <td>Deal or No Deal: Special Edition</td>\n",
              "      <td>DS</td>\n",
              "      <td>2010.0</td>\n",
              "      <td>Misc</td>\n",
              "      <td>Zoo Games</td>\n",
              "      <td>0.04</td>\n",
              "      <td>0</td>\n",
              "      <td>0</td>\n",
              "      <td>0</td>\n",
              "    </tr>\n",
              "    <tr>\n",
              "      <th>4</th>\n",
              "      <td>5</td>\n",
              "      <td>Ben 10 Ultimate Alien: Cosmic Destruction</td>\n",
              "      <td>PS3</td>\n",
              "      <td>2010.0</td>\n",
              "      <td>Platform</td>\n",
              "      <td>D3Publisher</td>\n",
              "      <td>0.12</td>\n",
              "      <td>0.09</td>\n",
              "      <td>0</td>\n",
              "      <td>0.04</td>\n",
              "    </tr>\n",
              "    <tr>\n",
              "      <th>...</th>\n",
              "      <td>...</td>\n",
              "      <td>...</td>\n",
              "      <td>...</td>\n",
              "      <td>...</td>\n",
              "      <td>...</td>\n",
              "      <td>...</td>\n",
              "      <td>...</td>\n",
              "      <td>...</td>\n",
              "      <td>...</td>\n",
              "      <td>...</td>\n",
              "    </tr>\n",
              "    <tr>\n",
              "      <th>16593</th>\n",
              "      <td>16594</td>\n",
              "      <td>Ice Age 2: The Meltdown</td>\n",
              "      <td>GC</td>\n",
              "      <td>2006.0</td>\n",
              "      <td>Platform</td>\n",
              "      <td>Vivendi Games</td>\n",
              "      <td>0.15</td>\n",
              "      <td>0.04</td>\n",
              "      <td>0</td>\n",
              "      <td>0.01</td>\n",
              "    </tr>\n",
              "    <tr>\n",
              "      <th>16594</th>\n",
              "      <td>16595</td>\n",
              "      <td>Rainbow Islands: Revolution</td>\n",
              "      <td>PSP</td>\n",
              "      <td>2005.0</td>\n",
              "      <td>Action</td>\n",
              "      <td>Rising Star Games</td>\n",
              "      <td>0.01</td>\n",
              "      <td>0</td>\n",
              "      <td>0</td>\n",
              "      <td>0</td>\n",
              "    </tr>\n",
              "    <tr>\n",
              "      <th>16595</th>\n",
              "      <td>16596</td>\n",
              "      <td>NBA 2K16</td>\n",
              "      <td>PS3</td>\n",
              "      <td>2015.0</td>\n",
              "      <td>Sports</td>\n",
              "      <td>Take-Two Interactive</td>\n",
              "      <td>0.44</td>\n",
              "      <td>0.19</td>\n",
              "      <td>0.03</td>\n",
              "      <td>0.13</td>\n",
              "    </tr>\n",
              "    <tr>\n",
              "      <th>16596</th>\n",
              "      <td>16597</td>\n",
              "      <td>Toukiden: The Age of Demons</td>\n",
              "      <td>PSV</td>\n",
              "      <td>2013.0</td>\n",
              "      <td>Action</td>\n",
              "      <td>Tecmo Koei</td>\n",
              "      <td>0.05</td>\n",
              "      <td>0.05</td>\n",
              "      <td>0.25</td>\n",
              "      <td>0.03</td>\n",
              "    </tr>\n",
              "    <tr>\n",
              "      <th>16597</th>\n",
              "      <td>16598</td>\n",
              "      <td>The King of Fighters '95</td>\n",
              "      <td>PS</td>\n",
              "      <td>1996.0</td>\n",
              "      <td>Fighting</td>\n",
              "      <td>Sony Computer Entertainment</td>\n",
              "      <td>0</td>\n",
              "      <td>0</td>\n",
              "      <td>0.16</td>\n",
              "      <td>0.01</td>\n",
              "    </tr>\n",
              "  </tbody>\n",
              "</table>\n",
              "<p>16598 rows × 10 columns</p>\n",
              "</div>\n",
              "      <button class=\"colab-df-convert\" onclick=\"convertToInteractive('df-87b05c72-8e98-43f9-b141-2c7d91c5861b')\"\n",
              "              title=\"Convert this dataframe to an interactive table.\"\n",
              "              style=\"display:none;\">\n",
              "        \n",
              "  <svg xmlns=\"http://www.w3.org/2000/svg\" height=\"24px\"viewBox=\"0 0 24 24\"\n",
              "       width=\"24px\">\n",
              "    <path d=\"M0 0h24v24H0V0z\" fill=\"none\"/>\n",
              "    <path d=\"M18.56 5.44l.94 2.06.94-2.06 2.06-.94-2.06-.94-.94-2.06-.94 2.06-2.06.94zm-11 1L8.5 8.5l.94-2.06 2.06-.94-2.06-.94L8.5 2.5l-.94 2.06-2.06.94zm10 10l.94 2.06.94-2.06 2.06-.94-2.06-.94-.94-2.06-.94 2.06-2.06.94z\"/><path d=\"M17.41 7.96l-1.37-1.37c-.4-.4-.92-.59-1.43-.59-.52 0-1.04.2-1.43.59L10.3 9.45l-7.72 7.72c-.78.78-.78 2.05 0 2.83L4 21.41c.39.39.9.59 1.41.59.51 0 1.02-.2 1.41-.59l7.78-7.78 2.81-2.81c.8-.78.8-2.07 0-2.86zM5.41 20L4 18.59l7.72-7.72 1.47 1.35L5.41 20z\"/>\n",
              "  </svg>\n",
              "      </button>\n",
              "      \n",
              "  <style>\n",
              "    .colab-df-container {\n",
              "      display:flex;\n",
              "      flex-wrap:wrap;\n",
              "      gap: 12px;\n",
              "    }\n",
              "\n",
              "    .colab-df-convert {\n",
              "      background-color: #E8F0FE;\n",
              "      border: none;\n",
              "      border-radius: 50%;\n",
              "      cursor: pointer;\n",
              "      display: none;\n",
              "      fill: #1967D2;\n",
              "      height: 32px;\n",
              "      padding: 0 0 0 0;\n",
              "      width: 32px;\n",
              "    }\n",
              "\n",
              "    .colab-df-convert:hover {\n",
              "      background-color: #E2EBFA;\n",
              "      box-shadow: 0px 1px 2px rgba(60, 64, 67, 0.3), 0px 1px 3px 1px rgba(60, 64, 67, 0.15);\n",
              "      fill: #174EA6;\n",
              "    }\n",
              "\n",
              "    [theme=dark] .colab-df-convert {\n",
              "      background-color: #3B4455;\n",
              "      fill: #D2E3FC;\n",
              "    }\n",
              "\n",
              "    [theme=dark] .colab-df-convert:hover {\n",
              "      background-color: #434B5C;\n",
              "      box-shadow: 0px 1px 3px 1px rgba(0, 0, 0, 0.15);\n",
              "      filter: drop-shadow(0px 1px 2px rgba(0, 0, 0, 0.3));\n",
              "      fill: #FFFFFF;\n",
              "    }\n",
              "  </style>\n",
              "\n",
              "      <script>\n",
              "        const buttonEl =\n",
              "          document.querySelector('#df-87b05c72-8e98-43f9-b141-2c7d91c5861b button.colab-df-convert');\n",
              "        buttonEl.style.display =\n",
              "          google.colab.kernel.accessAllowed ? 'block' : 'none';\n",
              "\n",
              "        async function convertToInteractive(key) {\n",
              "          const element = document.querySelector('#df-87b05c72-8e98-43f9-b141-2c7d91c5861b');\n",
              "          const dataTable =\n",
              "            await google.colab.kernel.invokeFunction('convertToInteractive',\n",
              "                                                     [key], {});\n",
              "          if (!dataTable) return;\n",
              "\n",
              "          const docLinkHtml = 'Like what you see? Visit the ' +\n",
              "            '<a target=\"_blank\" href=https://colab.research.google.com/notebooks/data_table.ipynb>data table notebook</a>'\n",
              "            + ' to learn more about interactive tables.';\n",
              "          element.innerHTML = '';\n",
              "          dataTable['output_type'] = 'display_data';\n",
              "          await google.colab.output.renderOutput(dataTable, element);\n",
              "          const docLink = document.createElement('div');\n",
              "          docLink.innerHTML = docLinkHtml;\n",
              "          element.appendChild(docLink);\n",
              "        }\n",
              "      </script>\n",
              "    </div>\n",
              "  </div>\n",
              "  "
            ]
          },
          "metadata": {},
          "execution_count": 2
        }
      ]
    },
    {
      "cell_type": "code",
      "source": [
        "df.dtypes"
      ],
      "metadata": {
        "id": "1dbEfUMit2x1",
        "outputId": "01893a70-b0d6-4519-e13e-19f61998451c",
        "colab": {
          "base_uri": "https://localhost:8080/"
        }
      },
      "execution_count": 3,
      "outputs": [
        {
          "output_type": "execute_result",
          "data": {
            "text/plain": [
              "Unnamed: 0       int64\n",
              "Name            object\n",
              "Platform        object\n",
              "Year           float64\n",
              "Genre           object\n",
              "Publisher       object\n",
              "NA_Sales        object\n",
              "EU_Sales        object\n",
              "JP_Sales        object\n",
              "Other_Sales     object\n",
              "dtype: object"
            ]
          },
          "metadata": {},
          "execution_count": 3
        }
      ]
    },
    {
      "cell_type": "code",
      "source": [
        "df.info()"
      ],
      "metadata": {
        "id": "DA2P3WzouQ35",
        "outputId": "cf1b28af-f02e-4512-9798-ad7a5ffa3e89",
        "colab": {
          "base_uri": "https://localhost:8080/"
        }
      },
      "execution_count": 4,
      "outputs": [
        {
          "output_type": "stream",
          "name": "stdout",
          "text": [
            "<class 'pandas.core.frame.DataFrame'>\n",
            "RangeIndex: 16598 entries, 0 to 16597\n",
            "Data columns (total 10 columns):\n",
            " #   Column       Non-Null Count  Dtype  \n",
            "---  ------       --------------  -----  \n",
            " 0   Unnamed: 0   16598 non-null  int64  \n",
            " 1   Name         16598 non-null  object \n",
            " 2   Platform     16598 non-null  object \n",
            " 3   Year         16327 non-null  float64\n",
            " 4   Genre        16548 non-null  object \n",
            " 5   Publisher    16540 non-null  object \n",
            " 6   NA_Sales     16598 non-null  object \n",
            " 7   EU_Sales     16598 non-null  object \n",
            " 8   JP_Sales     16598 non-null  object \n",
            " 9   Other_Sales  16598 non-null  object \n",
            "dtypes: float64(1), int64(1), object(8)\n",
            "memory usage: 1.3+ MB\n"
          ]
        }
      ]
    },
    {
      "cell_type": "code",
      "source": [
        "# 필요없는 컬럼 제거\n",
        "df = df.drop(['Unnamed: 0'], axis=1)\n",
        "df.dropna(inplace =True)\n",
        "\n",
        "# sales 단위 통일\n",
        "repl_dict = {'[kK]': '/1e3', '[mM]': ''}\n",
        "df['NA_Sales'] = df['NA_Sales'].replace(repl_dict, regex=True).map(pd.eval)\n",
        "df['EU_Sales'] = df['EU_Sales'].replace(repl_dict, regex=True).map(pd.eval)\n",
        "df['JP_Sales'] = df['JP_Sales'].replace(repl_dict, regex=True).map(pd.eval)\n",
        "df['Other_Sales'] = df['Other_Sales'].replace(repl_dict, regex=True).map(pd.eval)\n",
        "df.loc[10,:]"
      ],
      "metadata": {
        "id": "bX8L0AKlt4Yv",
        "outputId": "1b687a8d-cef9-4a6e-d081-66dca9cd7752",
        "colab": {
          "base_uri": "https://localhost:8080/"
        }
      },
      "execution_count": 5,
      "outputs": [
        {
          "output_type": "execute_result",
          "data": {
            "text/plain": [
              "Name                  Ford Racing\n",
              "Platform                       PS\n",
              "Year                       2001.0\n",
              "Genre                      Racing\n",
              "Publisher      Empire Interactive\n",
              "NA_Sales                     0.48\n",
              "EU_Sales                     0.33\n",
              "JP_Sales                      0.0\n",
              "Other_Sales                  0.06\n",
              "Name: 10, dtype: object"
            ]
          },
          "metadata": {},
          "execution_count": 5
        }
      ]
    },
    {
      "cell_type": "code",
      "source": [
        "# 연속형 데이터 중 year 데이터 확인\n",
        "import matplotlib.pyplot as plt\n",
        "\n",
        "plt.hist(df['Year'])\n",
        "plt.show()"
      ],
      "metadata": {
        "id": "ja0ZLmOLuoVd",
        "outputId": "b17993a1-90d3-4bb6-eb0c-60d55c88d752",
        "colab": {
          "base_uri": "https://localhost:8080/",
          "height": 265
        }
      },
      "execution_count": 6,
      "outputs": [
        {
          "output_type": "display_data",
          "data": {
            "text/plain": [
              "<Figure size 432x288 with 1 Axes>"
            ],
            "image/png": "[encoded data removed]"
          },
          "metadata": {
            "needs_background": "light"
          }
        }
      ]
    },
    {
      "cell_type": "code",
      "source": [
        "# 250보다 작은 경우 확인\n",
        "df[df['Year'] < 250]"
      ],
      "metadata": {
        "id": "2_WHcBGZu6BQ",
        "outputId": "26e2b840-fe75-4624-ce01-cce8a5870ddc",
        "colab": {
          "base_uri": "https://localhost:8080/",
          "height": 423
        }
      },
      "execution_count": 7,
      "outputs": [
        {
          "output_type": "execute_result",
          "data": {
            "text/plain": [
              "                                               Name Platform  Year     Genre  \\\n",
              "74          Age of Empires III: Complete Collection       PC   9.0  Strategy   \n",
              "81                            Treasures of the Deep       PS  97.0    Action   \n",
              "213                                NASCAR Unleashed      PS3  11.0    Racing   \n",
              "304    Kung Fu Panda: Showdown of Legendary Legends      PS3  15.0    Action   \n",
              "768                             NASCAR Thunder 2004      PS2   3.0    Racing   \n",
              "...                                             ...      ...   ...       ...   \n",
              "15985                                Sugoi Hebereke     SNES  94.0  Fighting   \n",
              "16103                                  Fab 5 Soccer       DS   8.0    Sports   \n",
              "16149                    Dragon Ball Z: Burst Limit     X360   8.0  Fighting   \n",
              "16394                                 Point Blank 3       PS   0.0   Shooter   \n",
              "16482              Super Robot Taisen F Kanketsuhen      SAT  98.0  Strategy   \n",
              "\n",
              "                    Publisher  NA_Sales  EU_Sales  JP_Sales  Other_Sales  \n",
              "74     Microsoft Game Studios      0.01      0.12      0.00         0.03  \n",
              "81         Namco Bandai Games      0.10      0.07      0.00         0.01  \n",
              "213                Activision      0.09      0.00      0.00         0.01  \n",
              "304              Little Orbit      0.00      0.02      0.00         0.00  \n",
              "768           Electronic Arts      0.53      0.41      0.00         0.14  \n",
              "...                       ...       ...       ...       ...          ...  \n",
              "15985                 Sunsoft      0.00      0.00      0.02         0.00  \n",
              "16103               Destineer      0.01      0.00      0.00         0.00  \n",
              "16149                   Atari      0.24      0.18      0.03         0.05  \n",
              "16394      Namco Bandai Games      0.01      0.01      0.00         0.00  \n",
              "16482               Banpresto      0.00      0.00      0.55         0.00  \n",
              "\n",
              "[100 rows x 9 columns]"
            ],
            "text/html": [
              "\n",
              "  <div id=\"df-44302551-83b5-470c-bb41-f653cdde60f2\">\n",
              "    <div class=\"colab-df-container\">\n",
              "      <div>\n",
              "<style scoped>\n",
              "    .dataframe tbody tr th:only-of-type {\n",
              "        vertical-align: middle;\n",
              "    }\n",
              "\n",
              "    .dataframe tbody tr th {\n",
              "        vertical-align: top;\n",
              "    }\n",
              "\n",
              "    .dataframe thead th {\n",
              "        text-align: right;\n",
              "    }\n",
              "</style>\n",
              "<table border=\"1\" class=\"dataframe\">\n",
              "  <thead>\n",
              "    <tr style=\"text-align: right;\">\n",
              "      <th></th>\n",
              "      <th>Name</th>\n",
              "      <th>Platform</th>\n",
              "      <th>Year</th>\n",
              "      <th>Genre</th>\n",
              "      <th>Publisher</th>\n",
              "      <th>NA_Sales</th>\n",
              "      <th>EU_Sales</th>\n",
              "      <th>JP_Sales</th>\n",
              "      <th>Other_Sales</th>\n",
              "    </tr>\n",
              "  </thead>\n",
              "  <tbody>\n",
              "    <tr>\n",
              "      <th>74</th>\n",
              "      <td>Age of Empires III: Complete Collection</td>\n",
              "      <td>PC</td>\n",
              "      <td>9.0</td>\n",
              "      <td>Strategy</td>\n",
              "      <td>Microsoft Game Studios</td>\n",
              "      <td>0.01</td>\n",
              "      <td>0.12</td>\n",
              "      <td>0.00</td>\n",
              "      <td>0.03</td>\n",
              "    </tr>\n",
              "    <tr>\n",
              "      <th>81</th>\n",
              "      <td>Treasures of the Deep</td>\n",
              "      <td>PS</td>\n",
              "      <td>97.0</td>\n",
              "      <td>Action</td>\n",
              "      <td>Namco Bandai Games</td>\n",
              "      <td>0.10</td>\n",
              "      <td>0.07</td>\n",
              "      <td>0.00</td>\n",
              "      <td>0.01</td>\n",
              "    </tr>\n",
              "    <tr>\n",
              "      <th>213</th>\n",
              "      <td>NASCAR Unleashed</td>\n",
              "      <td>PS3</td>\n",
              "      <td>11.0</td>\n",
              "      <td>Racing</td>\n",
              "      <td>Activision</td>\n",
              "      <td>0.09</td>\n",
              "      <td>0.00</td>\n",
              "      <td>0.00</td>\n",
              "      <td>0.01</td>\n",
              "    </tr>\n",
              "    <tr>\n",
              "      <th>304</th>\n",
              "      <td>Kung Fu Panda: Showdown of Legendary Legends</td>\n",
              "      <td>PS3</td>\n",
              "      <td>15.0</td>\n",
              "      <td>Action</td>\n",
              "      <td>Little Orbit</td>\n",
              "      <td>0.00</td>\n",
              "      <td>0.02</td>\n",
              "      <td>0.00</td>\n",
              "      <td>0.00</td>\n",
              "    </tr>\n",
              "    <tr>\n",
              "      <th>768</th>\n",
              "      <td>NASCAR Thunder 2004</td>\n",
              "      <td>PS2</td>\n",
              "      <td>3.0</td>\n",
              "      <td>Racing</td>\n",
              "      <td>Electronic Arts</td>\n",
              "      <td>0.53</td>\n",
              "      <td>0.41</td>\n",
              "      <td>0.00</td>\n",
              "      <td>0.14</td>\n",
              "    </tr>\n",
              "    <tr>\n",
              "      <th>...</th>\n",
              "      <td>...</td>\n",
              "      <td>...</td>\n",
              "      <td>...</td>\n",
              "      <td>...</td>\n",
              "      <td>...</td>\n",
              "      <td>...</td>\n",
              "      <td>...</td>\n",
              "      <td>...</td>\n",
              "      <td>...</td>\n",
              "    </tr>\n",
              "    <tr>\n",
              "      <th>15985</th>\n",
              "      <td>Sugoi Hebereke</td>\n",
              "      <td>SNES</td>\n",
              "      <td>94.0</td>\n",
              "      <td>Fighting</td>\n",
              "      <td>Sunsoft</td>\n",
              "      <td>0.00</td>\n",
              "      <td>0.00</td>\n",
              "      <td>0.02</td>\n",
              "      <td>0.00</td>\n",
              "    </tr>\n",
              "    <tr>\n",
              "      <th>16103</th>\n",
              "      <td>Fab 5 Soccer</td>\n",
              "      <td>DS</td>\n",
              "      <td>8.0</td>\n",
              "      <td>Sports</td>\n",
              "      <td>Destineer</td>\n",
              "      <td>0.01</td>\n",
              "      <td>0.00</td>\n",
              "      <td>0.00</td>\n",
              "      <td>0.00</td>\n",
              "    </tr>\n",
              "    <tr>\n",
              "      <th>16149</th>\n",
              "      <td>Dragon Ball Z: Burst Limit</td>\n",
              "      <td>X360</td>\n",
              "      <td>8.0</td>\n",
              "      <td>Fighting</td>\n",
              "      <td>Atari</td>\n",
              "      <td>0.24</td>\n",
              "      <td>0.18</td>\n",
              "      <td>0.03</td>\n",
              "      <td>0.05</td>\n",
              "    </tr>\n",
              "    <tr>\n",
              "      <th>16394</th>\n",
              "      <td>Point Blank 3</td>\n",
              "      <td>PS</td>\n",
              "      <td>0.0</td>\n",
              "      <td>Shooter</td>\n",
              "      <td>Namco Bandai Games</td>\n",
              "      <td>0.01</td>\n",
              "      <td>0.01</td>\n",
              "      <td>0.00</td>\n",
              "      <td>0.00</td>\n",
              "    </tr>\n",
              "    <tr>\n",
              "      <th>16482</th>\n",
              "      <td>Super Robot Taisen F Kanketsuhen</td>\n",
              "      <td>SAT</td>\n",
              "      <td>98.0</td>\n",
              "      <td>Strategy</td>\n",
              "      <td>Banpresto</td>\n",
              "      <td>0.00</td>\n",
              "      <td>0.00</td>\n",
              "      <td>0.55</td>\n",
              "      <td>0.00</td>\n",
              "    </tr>\n",
              "  </tbody>\n",
              "</table>\n",
              "<p>100 rows × 9 columns</p>\n",
              "</div>\n",
              "      <button class=\"colab-df-convert\" onclick=\"convertToInteractive('df-44302551-83b5-470c-bb41-f653cdde60f2')\"\n",
              "              title=\"Convert this dataframe to an interactive table.\"\n",
              "              style=\"display:none;\">\n",
              "        \n",
              "  <svg xmlns=\"http://www.w3.org/2000/svg\" height=\"24px\"viewBox=\"0 0 24 24\"\n",
              "       width=\"24px\">\n",
              "    <path d=\"M0 0h24v24H0V0z\" fill=\"none\"/>\n",
              "    <path d=\"M18.56 5.44l.94 2.06.94-2.06 2.06-.94-2.06-.94-.94-2.06-.94 2.06-2.06.94zm-11 1L8.5 8.5l.94-2.06 2.06-.94-2.06-.94L8.5 2.5l-.94 2.06-2.06.94zm10 10l.94 2.06.94-2.06 2.06-.94-2.06-.94-.94-2.06-.94 2.06-2.06.94z\"/><path d=\"M17.41 7.96l-1.37-1.37c-.4-.4-.92-.59-1.43-.59-.52 0-1.04.2-1.43.59L10.3 9.45l-7.72 7.72c-.78.78-.78 2.05 0 2.83L4 21.41c.39.39.9.59 1.41.59.51 0 1.02-.2 1.41-.59l7.78-7.78 2.81-2.81c.8-.78.8-2.07 0-2.86zM5.41 20L4 18.59l7.72-7.72 1.47 1.35L5.41 20z\"/>\n",
              "  </svg>\n",
              "      </button>\n",
              "      \n",
              "  <style>\n",
              "    .colab-df-container {\n",
              "      display:flex;\n",
              "      flex-wrap:wrap;\n",
              "      gap: 12px;\n",
              "    }\n",
              "\n",
              "    .colab-df-convert {\n",
              "      background-color: #E8F0FE;\n",
              "      border: none;\n",
              "      border-radius: 50%;\n",
              "      cursor: pointer;\n",
              "      display: none;\n",
              "      fill: #1967D2;\n",
              "      height: 32px;\n",
              "      padding: 0 0 0 0;\n",
              "      width: 32px;\n",
              "    }\n",
              "\n",
              "    .colab-df-convert:hover {\n",
              "      background-color: #E2EBFA;\n",
              "      box-shadow: 0px 1px 2px rgba(60, 64, 67, 0.3), 0px 1px 3px 1px rgba(60, 64, 67, 0.15);\n",
              "      fill: #174EA6;\n",
              "    }\n",
              "\n",
              "    [theme=dark] .colab-df-convert {\n",
              "      background-color: #3B4455;\n",
              "      fill: #D2E3FC;\n",
              "    }\n",
              "\n",
              "    [theme=dark] .colab-df-convert:hover {\n",
              "      background-color: #434B5C;\n",
              "      box-shadow: 0px 1px 3px 1px rgba(0, 0, 0, 0.15);\n",
              "      filter: drop-shadow(0px 1px 2px rgba(0, 0, 0, 0.3));\n",
              "      fill: #FFFFFF;\n",
              "    }\n",
              "  </style>\n",
              "\n",
              "      <script>\n",
              "        const buttonEl =\n",
              "          document.querySelector('#df-44302551-83b5-470c-bb41-f653cdde60f2 button.colab-df-convert');\n",
              "        buttonEl.style.display =\n",
              "          google.colab.kernel.accessAllowed ? 'block' : 'none';\n",
              "\n",
              "        async function convertToInteractive(key) {\n",
              "          const element = document.querySelector('#df-44302551-83b5-470c-bb41-f653cdde60f2');\n",
              "          const dataTable =\n",
              "            await google.colab.kernel.invokeFunction('convertToInteractive',\n",
              "                                                     [key], {});\n",
              "          if (!dataTable) return;\n",
              "\n",
              "          const docLinkHtml = 'Like what you see? Visit the ' +\n",
              "            '<a target=\"_blank\" href=https://colab.research.google.com/notebooks/data_table.ipynb>data table notebook</a>'\n",
              "            + ' to learn more about interactive tables.';\n",
              "          element.innerHTML = '';\n",
              "          dataTable['output_type'] = 'display_data';\n",
              "          await google.colab.output.renderOutput(dataTable, element);\n",
              "          const docLink = document.createElement('div');\n",
              "          docLink.innerHTML = docLinkHtml;\n",
              "          element.appendChild(docLink);\n",
              "        }\n",
              "      </script>\n",
              "    </div>\n",
              "  </div>\n",
              "  "
            ]
          },
          "metadata": {},
          "execution_count": 7
        }
      ]
    },
    {
      "cell_type": "code",
      "metadata": {
        "colab": {
          "base_uri": "https://localhost:8080/"
        },
        "id": "wmA30vj6jL3s",
        "outputId": "1160201b-29ae-4d65-9acd-b20334d773e7"
      },
      "source": [
        "# year 데이터 이상치 수정\n",
        "\n",
        "list_year = []\n",
        "\n",
        "for a in df['Year']:\n",
        "  if a >=0 and a <=21:\n",
        "    a = 2000 + a\n",
        "  elif a >=22 and a <= 99:\n",
        "    a = 1900 + a\n",
        "  else :\n",
        "    a = a\n",
        "  list_year.append(a)\n",
        "df['Year'] = list_year\n",
        "df.loc[81, :]"
      ],
      "execution_count": 8,
      "outputs": [
        {
          "output_type": "execute_result",
          "data": {
            "text/plain": [
              "Name           Treasures of the Deep\n",
              "Platform                          PS\n",
              "Year                          1997.0\n",
              "Genre                         Action\n",
              "Publisher         Namco Bandai Games\n",
              "NA_Sales                         0.1\n",
              "EU_Sales                        0.07\n",
              "JP_Sales                         0.0\n",
              "Other_Sales                     0.01\n",
              "Name: 81, dtype: object"
            ]
          },
          "metadata": {},
          "execution_count": 8
        }
      ]
    },
    {
      "cell_type": "code",
      "metadata": {
        "id": "2vfXT1bOjO1M"
      },
      "source": [
        "# Total_sales라는 feature 추가\n",
        "df['Total_Sales'] = df['NA_Sales'] + df['EU_Sales'] + df['JP_Sales'] +df['Other_Sales']"
      ],
      "execution_count": 9,
      "outputs": []
    },
    {
      "cell_type": "code",
      "source": [
        "# 중복 데이터 확인.\n",
        "df.duplicated().sum()"
      ],
      "metadata": {
        "id": "M3FyfXj5PT4X",
        "outputId": "114e0ae5-a5d1-4734-ef61-1b92dd57adaf",
        "colab": {
          "base_uri": "https://localhost:8080/"
        }
      },
      "execution_count": 12,
      "outputs": [
        {
          "output_type": "execute_result",
          "data": {
            "text/plain": [
              "0"
            ]
          },
          "metadata": {},
          "execution_count": 12
        }
      ]
    },
    {
      "cell_type": "markdown",
      "source": [
        "## 장르와 출고량, 장르와 플랫폼간의 연관이 있는지 확인"
      ],
      "metadata": {
        "id": "B-MCgN7gvaAa"
      }
    },
    {
      "cell_type": "code",
      "source": [
        "# 장르와 Total_Sales, 장르와 플랫폼간의 연관이 있는지 확인\n",
        "from scipy.stats import chi2_contingency\n",
        "\n",
        "df_sub = df[['Genre', 'Platform', 'Publisher','Total_Sales']].astype('category')\n",
        "\n",
        "gen_sales = pd.crosstab(df['Genre'], df['Total_Sales'])\n",
        "gen_plat = pd.crosstab(df['Genre'], df['Platform'])\n",
        "\n",
        "\n",
        "print('gen-sales',chi2_contingency(gen_sales)[1])\n",
        "print('gen-plat',chi2_contingency(gen_plat)[1])"
      ],
      "metadata": {
        "id": "N4F6B6HZvopF",
        "outputId": "a323cd8e-7b80-4ae0-8a16-81dbe1521ba8",
        "colab": {
          "base_uri": "https://localhost:8080/"
        }
      },
      "execution_count": 13,
      "outputs": [
        {
          "output_type": "stream",
          "name": "stdout",
          "text": [
            "gen-sales 5.4560699922727875e-06\n",
            "gen-plat 0.0\n"
          ]
        }
      ]
    },
    {
      "cell_type": "markdown",
      "source": [
        "장르와 출고량, 장르와 플랫폼 간에는 연관성이 있는 걸로 확인."
      ],
      "metadata": {
        "id": "lCKBT8trvsET"
      }
    },
    {
      "cell_type": "markdown",
      "source": [
        "## 한 지역에만 특화되어 있는 장르의 경우 높은 출고량을 기록하기 불리하다는 판단으로 장르와 지역간의 연관성 확인"
      ],
      "metadata": {
        "id": "3q0A6hREvx_N"
      }
    },
    {
      "cell_type": "code",
      "metadata": {
        "colab": {
          "base_uri": "https://localhost:8080/"
        },
        "id": "F-zCeiF1jRX0",
        "outputId": "013929c3-34e1-41a5-f138-64bc9e77f731"
      },
      "source": [
        "# 장르와 지역간의 연관성이 있는지 확인하는 chi-test\n",
        "from scipy.stats import chi2_contingency\n",
        "df_na = df[['Genre', 'NA_Sales']].astype('category')\n",
        "df_na = pd.crosstab(index = df_na['Genre'], columns = df_na['NA_Sales'])\n",
        "\n",
        "df_eu = df[['Genre', 'EU_Sales']].astype('category')\n",
        "df_eu = pd.crosstab(index = df_eu['Genre'], columns = df_eu['EU_Sales'])\n",
        "\n",
        "df_jp = df[['Genre', 'JP_Sales']].astype('category')\n",
        "df_jp = pd.crosstab(index = df_jp['Genre'], columns = df_jp['JP_Sales'])\n",
        "\n",
        "df_oth = df[['Genre', 'Other_Sales']].astype('category')\n",
        "df_oth = pd.crosstab(index = df_oth['Genre'], columns = df_oth['Other_Sales'])\n",
        "\n",
        "print('NA',chi2_contingency(df_na)[1])\n",
        "print('EU',chi2_contingency(df_eu)[1])\n",
        "print('JP',chi2_contingency(df_jp)[1])\n",
        "print('Other',chi2_contingency(df_oth)[1])"
      ],
      "execution_count": 14,
      "outputs": [
        {
          "output_type": "stream",
          "name": "stdout",
          "text": [
            "NA 5.923660629019466e-63\n",
            "EU 3.0738581086137684e-38\n",
            "JP 5.0137376205319465e-171\n",
            "Other 1.73126439723736e-19\n"
          ]
        }
      ]
    },
    {
      "cell_type": "markdown",
      "source": [
        "모든 지역에서 pvalue 값이 0.05 보다 작아 장르와 출고량간의 연관이 있다고 볼 수 있다. **즉 ,선호하는 장르가 있다고 볼 수 있다.**"
      ],
      "metadata": {
        "id": "qDEgGxW5v8yI"
      }
    },
    {
      "cell_type": "code",
      "source": [
        "# 지역별 출고량 비교 (합계)\n",
        "df_genre = df.groupby(['Genre']).sum()\n",
        "df_genre.reset_index(inplace = True)\n",
        "df_genre.drop(['Year'], axis=1 , inplace =True)\n",
        "df_genre\n",
        "\n",
        "plt.figure(figsize=(25,8))\n",
        "\n",
        "plt.subplot(2,2,1)\n",
        "plt.bar(x= df_genre['Genre'], height = df_genre['NA_Sales'])\n",
        "plt.title('NA')\n",
        "\n",
        "plt.subplot(2,2,2)\n",
        "plt.bar(x= df_genre['Genre'], height = df_genre['EU_Sales'])\n",
        "plt.title('EU')\n",
        "\n",
        "plt.subplot(2,2,3)\n",
        "plt.bar(x= df_genre['Genre'], height = df_genre['JP_Sales'])\n",
        "plt.title('JP')\n",
        "\n",
        "plt.subplot(2,2,4)\n",
        "plt.bar(x= df_genre['Genre'], height = df_genre['Other_Sales'])\n",
        "plt.title('Other')\n",
        "\n",
        "plt.show()"
      ],
      "metadata": {
        "id": "cIUK502EwLpp",
        "outputId": "10b3648e-d048-4a58-957c-8d5f59934ad9",
        "colab": {
          "base_uri": "https://localhost:8080/",
          "height": 459
        }
      },
      "execution_count": 15,
      "outputs": [
        {
          "output_type": "display_data",
          "data": {
            "text/plain": [
              "<Figure size 1800x576 with 4 Axes>"
            ],
            "image/png": "[encoded data removed]"
          },
          "metadata": {
            "needs_background": "light"
          }
        }
      ]
    },
    {
      "cell_type": "markdown",
      "source": [
        "1. 북미지역, 유럽지역과 타지역은 Action, Sports, Shooter 게임에 선호도가 높은 것을 볼 수 있다.\n",
        "2. 반면 일본지역은 **Role-Playing** 게임에 선호도가 높은 것을 볼 수 있다.\n",
        "\n",
        "Role-Playing의 경우 일본 지역에 특화되어 있기에 높은 출고량에 분리하다고 판단."
      ],
      "metadata": {
        "id": "GlgWwHgywXds"
      }
    },
    {
      "cell_type": "markdown",
      "source": [
        "## 출고량 높은 장르와 플랫폼 확인"
      ],
      "metadata": {
        "id": "ffywZLr5w4qK"
      }
    },
    {
      "cell_type": "code",
      "source": [
        "# 총 출고량이 높은 게임 정렬.\n",
        "\n",
        "df_sales = df.sort_values(by = ['Total_Sales'], ascending =False)\n",
        "df_sales.reset_index(inplace=True)\n",
        "df_sales.drop(['index'], axis=1, inplace=True)\n",
        "df_top500 = df_sales.head(500)"
      ],
      "metadata": {
        "id": "aPEgyt3TxwPF"
      },
      "execution_count": 16,
      "outputs": []
    },
    {
      "cell_type": "code",
      "source": [
        "# top 500 장르 확인\n",
        "# df_top500['Genre'].value_counts()\n",
        "top_gen = ['Action', 'Shooter', 'Sports', 'Platform', 'Role-playing', 'Misc', 'Racing','Fighting', 'Simulation', 'Puzzle','Adventure','Strategy']"
      ],
      "metadata": {
        "id": "c8AirLoSyNbW"
      },
      "execution_count": 17,
      "outputs": []
    },
    {
      "cell_type": "code",
      "source": [
        "# top 500 플랫폼 확인\n",
        "# df_top500['Platform'].value_counts()\n",
        "top500_platform = ['PS2', 'X360','PS3','PS', 'DS', 'Wii', 'PS4', 'NES', 'GB','3DS', 'PC', 'N64', 'SNES', 'XOne', 'GBA', 'PSP', 'WiiU','GC','XB','2600','GEB']"
      ],
      "metadata": {
        "id": "9qskI5xQyRwc"
      },
      "execution_count": 18,
      "outputs": []
    },
    {
      "cell_type": "code",
      "source": [
        "plt.figure(figsize=(15,10))\n",
        "\n",
        "plt.subplot(2,1,1)\n",
        "plt.bar(x=top_gen ,height = (df_top500['Genre'].value_counts()/500) * 100)\n",
        "plt.xlabel('Genre')\n",
        "plt.ylabel('Percentage')\n",
        "plt.title('Top500 Genre')\n",
        "\n",
        "plt.subplot(2,1,2)\n",
        "plt.bar(x=top500_platform ,height = (df_top500['Platform'].value_counts()/500) * 100)\n",
        "plt.title('Top500 Platform')\n",
        "plt.xlabel('Platform')\n",
        "plt.ylabel('Percentage')\n",
        "plt.show()"
      ],
      "metadata": {
        "id": "Dy6n2_V0ya3t",
        "outputId": "985d64d9-46a3-4e1f-801c-ce613c76ff1b",
        "colab": {
          "base_uri": "https://localhost:8080/",
          "height": 621
        }
      },
      "execution_count": 19,
      "outputs": [
        {
          "output_type": "display_data",
          "data": {
            "text/plain": [
              "<Figure size 1080x720 with 2 Axes>"
            ],
            "image/png": "[encoded data removed]"
          },
          "metadata": {
            "needs_background": "light"
          }
        }
      ]
    },
    {
      "cell_type": "markdown",
      "source": [
        "출고량이 높은 게임은 주로 플랫폼으로 **콘솔**을 이용하는 경우가 대부분이었고, \n",
        "\n",
        "장르의 경우 **Action, Shooter, Sports, Platform, Role-playing** 순이었다."
      ],
      "metadata": {
        "id": "LiowZkZWydWD"
      }
    },
    {
      "cell_type": "markdown",
      "source": [
        "## 연도별 게임 장르의 트렌드가 있는지 확인"
      ],
      "metadata": {
        "id": "ti-ZhogvxHjf"
      }
    },
    {
      "cell_type": "code",
      "metadata": {
        "id": "WI1PlBcCjf26"
      },
      "source": [
        "# 가장 늦게 출시한 연도와 최근 출시 연도 확인\n",
        "df_sort_year = df.sort_values(by = ['Year'])\n",
        "df_sort_year.tail() # 1980 ~ 2020\n",
        "\n",
        "# 5년 단위로 나눔\n",
        "bins = [1980.0, 1985.0, 1990.0, 1995.0, 2000.0, 2005.0, 2010.0, 2015.0, 2020.0]\n",
        "labels = [1980,1985, 1990, 1995,2000, 2005, 2010, 2015]\n",
        "df['binned'] = pd.cut(df['Year'], bins = bins, labels = labels)"
      ],
      "execution_count": 20,
      "outputs": []
    },
    {
      "cell_type": "code",
      "metadata": {
        "id": "GmdQ5LfSjhWo"
      },
      "source": [
        "df_trend = df.groupby(by = ['binned', 'Genre']).sum()\n",
        "df_trend.drop(['Year', 'NA_Sales', 'EU_Sales', 'JP_Sales', 'Other_Sales'],axis = 1, inplace = True)\n",
        "df_trend.reset_index(inplace=True)"
      ],
      "execution_count": 21,
      "outputs": []
    },
    {
      "cell_type": "code",
      "metadata": {
        "colab": {
          "base_uri": "https://localhost:8080/",
          "height": 360
        },
        "id": "7mT8fV3Rji83",
        "outputId": "5bbb0c31-e584-49ae-c0cb-c455d29d3620"
      },
      "source": [
        "df_trend2 = pd.pivot_table(df_trend, values = 'Total_Sales', index = 'binned', columns = 'Genre')\n",
        "df_trend2.reset_index(inplace=True)\n",
        "df_trend2.drop(7,inplace = True)\n",
        "genre = ['Action', 'Adventure', 'Fighting','Misc',\t'Platform',\t'Puzzle',\t'Racing',\t'Role-Playing',\t'Shooter',\t'Simulation',\t'Sports',\t'Strategy']\n",
        "plt.figure(figsize = (10,5))\n",
        "for a in genre:\n",
        "  plt.plot(df_trend2[a], 'o-', label = a)\n",
        "plt.xticks([1,2,3,4,5,6], labels = ['1985-1990','1990-1995','1995-2000', '2000-2005','2005-2010', '2010-2015'])\n",
        "plt.axvline(x=5, ymin=0, ymax= 35 , ls = '--', color ='black')\n",
        "plt.xlabel('Year', fontsize = 15)\n",
        "plt.ylabel('Total_Sales', fontsize = 15)\n",
        "plt.title('Trend of genre', fontsize = 20)\n",
        "plt.legend()\n",
        "plt.show()"
      ],
      "execution_count": 39,
      "outputs": [
        {
          "output_type": "display_data",
          "data": {
            "text/plain": [
              "<Figure size 720x360 with 1 Axes>"
            ],
            "image/png": "[encoded data removed]"
          },
          "metadata": {
            "needs_background": "light"
          }
        }
      ]
    },
    {
      "cell_type": "markdown",
      "source": [
        "1. 2000년도에는 **Action, Sports, Racing** 순으로 인기가 있었다고 볼 수 있다. \n",
        "2. 2005년도에 **Action, Sports, Misc, Shooter** 등의 게임이 급격히 증가한 것을 볼 수 있다.\n",
        "3. 2010년이 지나고 나서는 대부분의 게임이 그 전에 비해 출고량이 급격히 떨어지고 있다 \n",
        "4. **Action의** 경우 다른 장르에 비해 2010년 이후 많은 감소를 보이지 않았고 **Shooter의** 경우 지속적으로 출고량이 증가하는 걸 볼 수 있다."
      ],
      "metadata": {
        "id": "Rp07lHikxQaI"
      }
    },
    {
      "cell_type": "markdown",
      "source": [
        "## 진입장벽이라고 할 수 있는 장르별 **상위 게임의 독점정도 확인**"
      ],
      "metadata": {
        "id": "81M8DmTXys3x"
      }
    },
    {
      "cell_type": "code",
      "metadata": {
        "colab": {
          "base_uri": "https://localhost:8080/"
        },
        "id": "c4cuTNuTjn8F",
        "outputId": "641d9396-422c-4f66-b63e-5b869f9a7bab"
      },
      "source": [
        "# 스포츠 장르 확인\n",
        "import numpy as np\n",
        "df_sports = df[(df['Genre'] == 'Sports')]\n",
        "df_sports.sort_values(by = 'Total_Sales', ascending=False, inplace = True)\n",
        "# df_sports.head(50)\n",
        "df_wii = df_sports[(df_sports['Name'].str.contains('Wii'))]\n",
        "sports = df_wii['Total_Sales'].sum() / df_sports['Total_Sales'].sum() * 100 "
      ],
      "execution_count": 50,
      "outputs": [
        {
          "output_type": "stream",
          "name": "stderr",
          "text": [
            "/usr/local/lib/python3.7/dist-packages/pandas/util/_decorators.py:311: SettingWithCopyWarning: \n",
            "A value is trying to be set on a copy of a slice from a DataFrame\n",
            "\n",
            "See the caveats in the documentation: https://pandas.pydata.org/pandas-docs/stable/user_guide/indexing.html#returning-a-view-versus-a-copy\n",
            "  return func(*args, **kwargs)\n"
          ]
        }
      ]
    },
    {
      "cell_type": "code",
      "metadata": {
        "colab": {
          "base_uri": "https://localhost:8080/"
        },
        "id": "o6VdAHCkjqWQ",
        "outputId": "ef912c72-922b-4525-da13-cc309e2c3acf"
      },
      "source": [
        "# 액션 장르 확인\n",
        "df_action = df[(df['Genre'] == 'Action')]\n",
        "df_action.sort_values(by = 'Total_Sales', ascending=False, inplace = True)\n",
        "# df_action50\n",
        "df_thef = df_action[(df_action['Name'].str.contains('Theft'))]\n",
        "action = df_thef['Total_Sales'].sum()/df_action['Total_Sales'].sum() * 100"
      ],
      "execution_count": 57,
      "outputs": [
        {
          "output_type": "stream",
          "name": "stderr",
          "text": [
            "/usr/local/lib/python3.7/dist-packages/pandas/util/_decorators.py:311: SettingWithCopyWarning: \n",
            "A value is trying to be set on a copy of a slice from a DataFrame\n",
            "\n",
            "See the caveats in the documentation: https://pandas.pydata.org/pandas-docs/stable/user_guide/indexing.html#returning-a-view-versus-a-copy\n",
            "  return func(*args, **kwargs)\n"
          ]
        }
      ]
    },
    {
      "cell_type": "code",
      "metadata": {
        "colab": {
          "base_uri": "https://localhost:8080/"
        },
        "id": "9LPpVPkVjrrU",
        "outputId": "c2a2edc0-fc8a-41a5-97a2-e8c2d2303d33"
      },
      "source": [
        "# 슈터 장르 확인\n",
        "df_sho = df[(df['Genre'] == 'Shooter')]\n",
        "df_sho.sort_values(by = 'Total_Sales', ascending=False, inplace = True)\n",
        "# df_sho.head(50)\n",
        "df_call_of = df_sho[(df_sho['Name'].str.contains('Call of Duty'))]\n",
        "shooter = df_call_of['Total_Sales'].sum() / df_sho['Total_Sales'].sum() * 100"
      ],
      "execution_count": 67,
      "outputs": [
        {
          "output_type": "stream",
          "name": "stderr",
          "text": [
            "/usr/local/lib/python3.7/dist-packages/pandas/util/_decorators.py:311: SettingWithCopyWarning: \n",
            "A value is trying to be set on a copy of a slice from a DataFrame\n",
            "\n",
            "See the caveats in the documentation: https://pandas.pydata.org/pandas-docs/stable/user_guide/indexing.html#returning-a-view-versus-a-copy\n",
            "  return func(*args, **kwargs)\n"
          ]
        }
      ]
    },
    {
      "cell_type": "code",
      "metadata": {
        "id": "B6iCbPrpjtcD"
      },
      "source": [
        "# 플랫폼 장르 확인\n",
        "df_platf = df[(df['Genre'] == 'Platform')]\n",
        "# df_platf.head(50)\n",
        "df_mario = df_platf[(df_platf['Name'].str.contains('Mario'))]\n",
        "platform = df_mario['Total_Sales'].sum() / df_platf['Total_Sales'].sum() * 100"
      ],
      "execution_count": 54,
      "outputs": []
    },
    {
      "cell_type": "code",
      "metadata": {
        "colab": {
          "base_uri": "https://localhost:8080/"
        },
        "id": "h9MY20-Hju5B",
        "outputId": "b2d061ab-d059-4d96-8ae7-975ff293263c"
      },
      "source": [
        "# 롤플레잉 장르 확인\n",
        "df_role = df[(df['Genre'] == 'Role-Playing')]\n",
        "df_role.sort_values(by = 'Total_Sales', ascending = False, inplace = True)\n",
        "# df_role.head(50)\n",
        "df_Pokemon = df_role[(df_role['Name'].str.contains('Pokemon'))]\n",
        "role_playing = df_Pokemon['Total_Sales'].sum()/df_role['Total_Sales'].sum() * 100 "
      ],
      "execution_count": 55,
      "outputs": [
        {
          "output_type": "stream",
          "name": "stderr",
          "text": [
            "/usr/local/lib/python3.7/dist-packages/pandas/util/_decorators.py:311: SettingWithCopyWarning: \n",
            "A value is trying to be set on a copy of a slice from a DataFrame\n",
            "\n",
            "See the caveats in the documentation: https://pandas.pydata.org/pandas-docs/stable/user_guide/indexing.html#returning-a-view-versus-a-copy\n",
            "  return func(*args, **kwargs)\n"
          ]
        }
      ]
    },
    {
      "cell_type": "code",
      "source": [
        "# 독점정도 시각화\n",
        "y = [platform, shooter, role_playing, sports, action]\n",
        "plt.bar(x = ['Platform', 'Shooter', 'Role_Playing', 'Sports', 'Action'], height = y)\n",
        "plt.show()"
      ],
      "metadata": {
        "id": "SPrWC_nAzUWE",
        "outputId": "c76304c6-e1d9-4d75-e1a5-65f1d4e39e65",
        "colab": {
          "base_uri": "https://localhost:8080/",
          "height": 266
        }
      },
      "execution_count": 70,
      "outputs": [
        {
          "output_type": "display_data",
          "data": {
            "text/plain": [
              "<Figure size 432x288 with 1 Axes>"
            ],
            "image/png": "[encoded data removed]"
          },
          "metadata": {
            "needs_background": "light"
          }
        }
      ]
    },
    {
      "cell_type": "markdown",
      "source": [
        "스포츠와 액션 장르가 그나마 진입장벽이 낮은 것으로 확인"
      ],
      "metadata": {
        "id": "rwTQEOXKzZsC"
      }
    },
    {
      "cell_type": "markdown",
      "source": [
        "## 장르 선택\n",
        "\n",
        "- 진입 장벽 : **액션, 스포츠** 유리\n",
        "- 트렌드 : **액션, 슈터** 유리\n",
        "\n",
        "두가지 특성을 참고하여 **액션** 장르로 선택."
      ],
      "metadata": {
        "id": "VbZBfpHczmeB"
      }
    },
    {
      "cell_type": "markdown",
      "source": [
        "## 액션 장르와 플랫폼 간의 관계"
      ],
      "metadata": {
        "id": "9EOns9o4z7Gg"
      }
    },
    {
      "cell_type": "code",
      "source": [
        "df_action100 = df_action.head(100)\n",
        "plat_act100 = df_action100.groupby(by = 'Platform').sum()\n",
        "plat_act100.reset_index(inplace = True)\n",
        "plat_act100.sort_values(by = 'Total_Sales', ascending = False, inplace = True)\n",
        "\n",
        "df_action_low100 = df_action.tail(100)\n",
        "plat_low_act100 = df_action_low100.groupby(by = 'Platform').sum()\n",
        "plat_low_act100.reset_index(inplace = True)\n",
        "plat_low_act100.sort_values(by = 'Total_Sales', ascending = False, inplace = True)\n",
        "\n",
        "plt.figure(figsize= (20,7))\n",
        "plt.bar(x = plat_act100['Platform'], height = plat_act100['Total_Sales']/np.sum(plat_act100['Total_Sales']))\n",
        "plt.title('Top 100 platform of action', fontsize = 20)\n",
        "plt.show()"
      ],
      "metadata": {
        "id": "nPCpprpVzjxk",
        "outputId": "566c2b60-9283-494a-d5c8-1b38e28e7f3c",
        "colab": {
          "base_uri": "https://localhost:8080/",
          "height": 449
        }
      },
      "execution_count": 71,
      "outputs": [
        {
          "output_type": "display_data",
          "data": {
            "text/plain": [
              "<Figure size 1440x504 with 1 Axes>"
            ],
            "image/png": "[encoded data removed]"
          },
          "metadata": {
            "needs_background": "light"
          }
        }
      ]
    },
    {
      "cell_type": "code",
      "metadata": {
        "id": "YDY58qDHjxZe",
        "outputId": "7dc40a67-1e58-4909-b867-a4cf2271e82e",
        "colab": {
          "base_uri": "https://localhost:8080/"
        }
      },
      "source": [
        "# 플레이스테이션이 전체 액션게임 출고량에서 차지하는 비중\n",
        "df_subset = df.groupby(by = ['Genre', 'Platform']).sum()\n",
        "df_subset.reset_index(inplace=True)\n",
        "df_subset.sort_values(by='Total_Sales', ascending=False, inplace = True)\n",
        "# df_subset.head(50)\n",
        "df_subset2 = df_subset[(df_subset['Genre'] == 'Action')]\n",
        "df_subset2 = df_subset2.groupby(by= 'Platform').sum()\n",
        "df_subset2.sort_values(by='Total_Sales', ascending=False, inplace = True)\n",
        "# df_subse2\n",
        "# 플레이스테이션 Total_Sales 합계 / 모든 플랫폼 Sales\n",
        "(301.49+269.68+125.59+84.70)/df_subset2['Total_Sales'].sum()"
      ],
      "execution_count": 74,
      "outputs": [
        {
          "output_type": "execute_result",
          "data": {
            "text/plain": [
              "0.4561991383437052"
            ]
          },
          "metadata": {},
          "execution_count": 74
        }
      ]
    },
    {
      "cell_type": "markdown",
      "source": [
        "전체 매출에서 플레이 스테이션이 차지하는 매출 비중 45%\n",
        "\n",
        "액션게임 Top 100 플랫폼에서도 플레이스테이션이 상위 랭크"
      ],
      "metadata": {
        "id": "5Fk1QOFJ0S4q"
      }
    },
    {
      "cell_type": "markdown",
      "source": [
        "## 결론\n",
        "\n",
        "**액션 게임을 플레이스테이션 플랫폼을 통해 유통**하는 것이 높은 출고량을 기록하는데 유리할 것이다."
      ],
      "metadata": {
        "id": "y9UpmSfF0fmL"
      }
    }
  ]
}